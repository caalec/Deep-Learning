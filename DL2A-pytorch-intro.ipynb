{
 "cells": [
  {
   "cell_type": "markdown",
   "metadata": {},
   "source": [
    "This notebook is a simple introduction to pytorch, assuming you already know  python, numpy and the notebooks. PyTorch is a python module dedicated to deep-learning. Everything is based on a specific data structure: the tensor. \n",
    "\n",
    "Machine learning basically relies on three components: \n",
    "- the model: in this course this is a Neural Network and in pytorch a **module**\n",
    "- the model is trained to minimize a **loss** function\n",
    "- this minization can be achieved with gradient descent (or one of its variant) with an **optimizer**. \n",
    "In this notbook we will introduce these 3 components and also the basic data structure (the tensors). \n",
    "\n",
    "\n",
    "To start with pytorch, here are some external websites: \n",
    "- http://pytorch.org/tutorials/ : official tutorials\n",
    "- http://pytorch.org/docs/master/ : official documentation\n",
    "\n",
    "Before, check the version of pytorch"
   ]
  },
  {
   "cell_type": "code",
   "execution_count": null,
   "metadata": {},
   "outputs": [],
   "source": []
  },
  {
   "cell_type": "code",
   "execution_count": 24,
   "metadata": {},
   "outputs": [
    {
     "name": "stdout",
     "output_type": "stream",
     "text": [
      "2.0.0+cu117\n"
     ]
    }
   ],
   "source": [
    "import torch as th\n",
    "print(th.__version__)\n",
    "import matplotlib.pyplot as plt\n",
    "import torch.nn as nn"
   ]
  },
  {
   "cell_type": "markdown",
   "metadata": {},
   "source": [
    "You should have a version of at least 1.0.0. "
   ]
  },
  {
   "cell_type": "markdown",
   "metadata": {},
   "source": [
    "You should have a version of at least 1.0.0. \n",
    "# Pytorch overview\n",
    "\n",
    "## Tensor  overview\n",
    "For users who are familiar with numpy arrays, the PyTorch **Tensor** class is very similar. PyTorch is like NumPy, but with GPU acceleration and automatic computation of gradients. This  makes it suitable for deep learning: calculating backward pass data automatically starting from a forward expression.\n",
    "\n",
    "The forward pass is implemented as a computation graph. The **Tensor** is the basic piece of this computation graph, to encode the data (input/output) and the parameters of the model. \n",
    "A Tensor is both a tensor (like a numpy array or a matlab matrix) and a variable (or a node) of the computation graph. A Tensor can store data and the associated gradients.\n",
    "\n",
    "\n",
    "\n",
    "**IMPORTANT NOTE: ** Since torch 0.3, a **Tensor** is a **Variable** that wraps a tensor. Before these 2 concepts were separated. \n",
    "\n",
    "## Module overview\n",
    "\n",
    "A module is a part of a NNet. It may contains Tensors. The core PyTorch modules for building neural networks are located in *torch.nn*, which provides common neural network layers and other architectural components. Fully connected layers, convolutional layers, activation functions, and loss functions can all be found here. Modules can be seen as pre-built pieces of computation graph. \n",
    "\n",
    "A simple example of *module* is `Linear`: it's a fully connected layer, so a linear transformation of the input. It contains a matrix of parameters (a Tensor). Activation function are also `Module`. You can therefore create a cascade of `Linear` module with a `Sigmoid`, for example. \n",
    "\n",
    "A special kind of module is a *container* : a module that contains other module. The most widely used is `Sequential`: it's a container to implement a feed-forward network. When you create a `Sequential` object you pass him an ordered list of modules to create the cascade of operation. \n",
    "\n",
    "\n",
    "## Gradient computation and optimization\n",
    "To learn the model, we need to things: \n",
    "- Compute the gradient of the loss with respect to the parameters. The gradients are computed via auto-differentiation. This is the role of the **backward** function.  \n",
    "- Update the parameters, with these gradient values. This is the role of the **optimizer**. The optimizer is an object that manage the gradient descent updates. \n",
    "\n",
    "\n",
    "# Tensor\n",
    "\n",
    "To start with  *Tensor*s, read this link first :\n",
    "http://pytorch.org/tutorials/beginner/blitz/tensor_tutorial.html. \n",
    "and then look at the operations on tensors:  http://pytorch.org/docs/master/torch.html. \n",
    "\n",
    "## Basics\n",
    "Now, you can answer the following questions: \n",
    "* Build a tensor of dimensions (2,3) filled with integers from 1  to 6. \n",
    "* Convert this  Tensor in array numpy and back. \n",
    "* Compute the sum of its elements, the sum per rows and per columns. \n",
    "* Build a tensor of dimensions (3,2) filled with random numbers. Numbers are drawn from the uniform distribution on [0,1]\n",
    "* Same with a gaussian  (mean=0, variance=1). \n",
    "\n",
    "Remember, you can use ask for help, like in the following cell. \n",
    "But in most of the case it is easier to use the online documentation of the function: https://pytorch.org/docs/stable/torch.html#torch.arange"
   ]
  },
  {
   "cell_type": "code",
   "execution_count": 3,
   "metadata": {},
   "outputs": [
    {
     "name": "stdout",
     "output_type": "stream",
     "text": [
      "Help on built-in function arange in module torch:\n",
      "\n",
      "arange(...)\n",
      "    arange(start=0, end, step=1, *, out=None, dtype=None, layout=torch.strided, device=None, requires_grad=False) -> Tensor\n",
      "    \n",
      "    Returns a 1-D tensor of size :math:`\\left\\lceil \\frac{\\text{end} - \\text{start}}{\\text{step}} \\right\\rceil`\n",
      "    with values from the interval ``[start, end)`` taken with common difference\n",
      "    :attr:`step` beginning from `start`.\n",
      "    \n",
      "    Note that non-integer :attr:`step` is subject to floating point rounding errors when\n",
      "    comparing against :attr:`end`; to avoid inconsistency, we advise adding a small epsilon to :attr:`end`\n",
      "    in such cases.\n",
      "    \n",
      "    .. math::\n",
      "        \\text{out}_{{i+1}} = \\text{out}_{i} + \\text{step}\n",
      "    \n",
      "    Args:\n",
      "        start (Number): the starting value for the set of points. Default: ``0``.\n",
      "        end (Number): the ending value for the set of points\n",
      "        step (Number): the gap between each pair of adjacent points. Default: ``1``.\n",
      "    \n",
      "    Keyword args:\n",
      "        out (Tensor, optional): the output tensor.\n",
      "        dtype (:class:`torch.dtype`, optional): the desired data type of returned tensor.\n",
      "            Default: if ``None``, uses a global default (see :func:`torch.set_default_tensor_type`). If `dtype` is not given, infer the data type from the other input\n",
      "            arguments. If any of `start`, `end`, or `stop` are floating-point, the\n",
      "            `dtype` is inferred to be the default dtype, see\n",
      "            :meth:`~torch.get_default_dtype`. Otherwise, the `dtype` is inferred to\n",
      "            be `torch.int64`.\n",
      "        layout (:class:`torch.layout`, optional): the desired layout of returned Tensor.\n",
      "            Default: ``torch.strided``.\n",
      "        device (:class:`torch.device`, optional): the desired device of returned tensor.\n",
      "            Default: if ``None``, uses the current device for the default tensor type\n",
      "            (see :func:`torch.set_default_tensor_type`). :attr:`device` will be the CPU\n",
      "            for CPU tensor types and the current CUDA device for CUDA tensor types.\n",
      "        requires_grad (bool, optional): If autograd should record operations on the\n",
      "            returned tensor. Default: ``False``.\n",
      "    \n",
      "    Example::\n",
      "    \n",
      "        >>> torch.arange(5)\n",
      "        tensor([ 0,  1,  2,  3,  4])\n",
      "        >>> torch.arange(1, 4)\n",
      "        tensor([ 1,  2,  3])\n",
      "        >>> torch.arange(1, 2.5, 0.5)\n",
      "        tensor([ 1.0000,  1.5000,  2.0000])\n",
      "\n"
     ]
    }
   ],
   "source": [
    "# A hint \n",
    "help(th.arange)\n"
   ]
  },
  {
   "cell_type": "code",
   "execution_count": 4,
   "metadata": {},
   "outputs": [
    {
     "name": "stdout",
     "output_type": "stream",
     "text": [
      "tensor([[1, 2, 3],\n",
      "        [4, 5, 6]])\n"
     ]
    }
   ],
   "source": [
    "# TODO \n",
    "\n",
    "#Tensor A of dimensions (2,3) filled with integers from 1 to 6\n",
    "A = th.arange(1,7)\n",
    "A = th.reshape(A,(2,3))\n",
    "print(A)"
   ]
  },
  {
   "cell_type": "code",
   "execution_count": 5,
   "metadata": {},
   "outputs": [
    {
     "name": "stdout",
     "output_type": "stream",
     "text": [
      "[[1 2 3]\n",
      " [4 5 6]] tensor([[1, 2, 3],\n",
      "        [4, 5, 6]])\n"
     ]
    }
   ],
   "source": [
    "#Convert Tensor to numpy back\n",
    "a = A.numpy()\n",
    "B = th.from_numpy(a)\n",
    "print(a,B)"
   ]
  },
  {
   "cell_type": "code",
   "execution_count": 6,
   "metadata": {},
   "outputs": [
    {
     "name": "stdout",
     "output_type": "stream",
     "text": [
      "tensor(21) tensor([5, 7, 9]) tensor([ 6, 15])\n"
     ]
    }
   ],
   "source": [
    "#Computation of the sums of its elements, the sum per rows and per columns\n",
    "sum = th.sum(B)\n",
    "sum_columns = th.sum(B,0)\n",
    "sum_rows = th.sum(B,1)\n",
    "print(sum, sum_columns, sum_rows)"
   ]
  },
  {
   "cell_type": "code",
   "execution_count": 7,
   "metadata": {},
   "outputs": [
    {
     "name": "stdout",
     "output_type": "stream",
     "text": [
      "tensor([[0.0180, 0.9768, 0.8928],\n",
      "        [0.0678, 0.2740, 0.7854]])\n"
     ]
    }
   ],
   "source": [
    "#Tensor of dimensions (3,2) with random numbers from uniform distribution [0,1]\n",
    "A_uniform = th.rand((2,3))\n",
    "print(A_uniform)"
   ]
  },
  {
   "cell_type": "code",
   "execution_count": 8,
   "metadata": {},
   "outputs": [
    {
     "name": "stdout",
     "output_type": "stream",
     "text": [
      "tensor([[ 0.7717, -1.0143,  0.1317],\n",
      "        [ 2.0874,  0.3006,  0.9893]])\n"
     ]
    }
   ],
   "source": [
    "#Tensor of dimensions (3,2) with random numbers from uniform distribution [0,1]\n",
    "A_gaussian = th.randn((2,3))\n",
    "print(A_gaussian)"
   ]
  },
  {
   "cell_type": "markdown",
   "metadata": {},
   "source": [
    "## Operation and access\n",
    "\n",
    "* Extract the first row and the last row (do the same with columns)\n",
    "* Build a matrix  A of dimension (2,3), a matrix  B (2,1) et and  C (1,4) with random initialisation. \n",
    "* Concatenate A with B, and add the results with C. \n",
    "* Create A (5,4), then B (3,4) which contains in this order: the second, the first and the fourth row of A. "
   ]
  },
  {
   "cell_type": "code",
   "execution_count": 9,
   "metadata": {},
   "outputs": [
    {
     "name": "stdout",
     "output_type": "stream",
     "text": [
      "First row : tensor([1, 2, 3])\n",
      "Last row : tensor([4, 5, 6])\n",
      "First column : tensor([1, 4])\n",
      "Last column : tensor([3, 6])\n"
     ]
    }
   ],
   "source": [
    "#Extract the first row and the last row and the same for columns\n",
    "print(\"First row :\", A[0,:])\n",
    "print(\"Last row :\", A[-1,:])\n",
    "print(\"First column :\", A[:,0])\n",
    "print(\"Last column :\", A[:,-1])\n"
   ]
  },
  {
   "cell_type": "code",
   "execution_count": 10,
   "metadata": {},
   "outputs": [
    {
     "name": "stdout",
     "output_type": "stream",
     "text": [
      "A :  tensor([[0.7718, 0.8604, 0.4662],\n",
      "        [0.4991, 0.7236, 0.0964]]) \n",
      "B :  tensor([[0.9493],\n",
      "        [0.3538]]) \n",
      "C :  tensor([[0.9915, 0.7890, 0.7140, 0.4097]])\n"
     ]
    }
   ],
   "source": [
    "#Build a matrix A of dimension (2,3), a matrix B (2,1) and a matrix (1,4) with random initialisation\n",
    "\n",
    "A = th.rand((2,3))\n",
    "B = th.rand((2,1))\n",
    "C = th.rand((1,4))\n",
    "\n",
    "print(\"A : \", A, \"\\nB : \", B , \"\\nC : \",C)"
   ]
  },
  {
   "cell_type": "code",
   "execution_count": 11,
   "metadata": {},
   "outputs": [
    {
     "name": "stdout",
     "output_type": "stream",
     "text": [
      "tensor([[0.7718, 0.8604, 0.4662, 0.9493],\n",
      "        [0.4991, 0.7236, 0.0964, 0.3538]])\n",
      "tensor([[1.7633, 1.6494, 1.1802, 1.3591],\n",
      "        [1.4906, 1.5126, 0.8104, 0.7635]])\n"
     ]
    }
   ],
   "source": [
    "#Concatenate A with B, then add the results with C\n",
    "res = th.cat((A,B), 1)\n",
    "print(res)\n",
    "res = res + C\n",
    "print(res)"
   ]
  },
  {
   "cell_type": "code",
   "execution_count": 12,
   "metadata": {},
   "outputs": [
    {
     "name": "stdout",
     "output_type": "stream",
     "text": [
      "A :  tensor([[0.1771, 0.2291, 0.4124, 0.0376],\n",
      "        [0.9306, 0.4967, 0.4718, 0.5079],\n",
      "        [0.6169, 0.3447, 0.0505, 0.7129],\n",
      "        [0.5518, 0.4470, 0.7311, 0.4380],\n",
      "        [0.4599, 0.3992, 0.9352, 0.2087]]) \n",
      "B :  tensor([[0.9306, 0.4967, 0.4718, 0.5079],\n",
      "        [0.1771, 0.2291, 0.4124, 0.0376],\n",
      "        [0.5518, 0.4470, 0.7311, 0.4380]])\n"
     ]
    }
   ],
   "source": [
    "#Create A (5,4), then B (3,4) which contains in this order: the second, the first and the fourth row of A. \n",
    "\n",
    "A = th.rand((5,4))\n",
    "B = th.ones((3,4))\n",
    "B[0,:] = A[1,:]\n",
    "B[1,:] = A[0,:]\n",
    "B[2,:] = A[3,:]\n",
    "print(\"A : \", A, \"\\nB : \", B)\n"
   ]
  },
  {
   "cell_type": "markdown",
   "metadata": {},
   "source": [
    "Look at the following code and how  x2 is built from x. "
   ]
  },
  {
   "cell_type": "code",
   "execution_count": 13,
   "metadata": {},
   "outputs": [
    {
     "name": "stdout",
     "output_type": "stream",
     "text": [
      "tensor([[ 0.6827, -1.6309, -1.7141, -0.2642],\n",
      "        [-1.4145, -0.8600, -0.4685, -0.9528],\n",
      "        [-0.3880,  1.6036, -0.1887,  0.6893],\n",
      "        [-0.9386,  1.1893, -0.5342,  0.2394],\n",
      "        [-0.9872,  0.8451, -1.0132, -0.5689]])\n",
      "tensor([[ 0.6827, -1.6309, -1.7141, -0.2642],\n",
      "        [-1.4145, -0.8600, -0.4685, -0.9528],\n",
      "        [-0.3880,  1.6036, -0.1887,  0.6893],\n",
      "        [-0.9386,  1.1893, -0.5342,  0.2394],\n",
      "        [-0.9872,  0.8451, -1.0132, -0.5689]])\n",
      "torch.Size([2, 5, 4])\n",
      "tensor([[ 0.6827, -1.6309, -1.7141, -0.2642],\n",
      "        [ 0.6827, -1.6309, -1.7141, -0.2642]])\n",
      "torch.Size([5, 2, 4])\n",
      "tensor([[ 0.6827,  0.6827],\n",
      "        [-1.6309, -1.6309],\n",
      "        [-1.7141, -1.7141],\n",
      "        [-0.2642, -0.2642]])\n",
      "torch.Size([5, 4, 2])\n"
     ]
    }
   ],
   "source": [
    "x = th.randn(5, 4)\n",
    "print(x)\n",
    "\n",
    "x2= th.stack((x,x) , dim=0)\n",
    "print (x2[0]) \n",
    "print (x2.size()) \n",
    "\n",
    "x2= th.stack((x,x) , dim=1)\n",
    "print (x2[0]) \n",
    "print (x2.size()) \n",
    "\n",
    "x2= th.stack((x,x) , dim=2)\n",
    "print (x2[0]) \n",
    "print (x2.size())\n"
   ]
  },
  {
   "cell_type": "markdown",
   "metadata": {},
   "source": [
    "## Reshape and squeeze\n",
    "\n",
    "The method **view()** is similar to *reshape*. This is **important** since with neural net, you will often need to play with dimensions. \n",
    "\n",
    "* Build a tensor of size (2, 3, 4)\n",
    "* Convert it in a matrix of dimension (3,8) and (2,12)\n",
    "* What does  *view(2,-1)*  do ? "
   ]
  },
  {
   "cell_type": "code",
   "execution_count": 14,
   "metadata": {},
   "outputs": [
    {
     "name": "stdout",
     "output_type": "stream",
     "text": [
      "A(2,3,4) : tensor([[[0.0392, 0.0263, 0.5743, 0.4460],\n",
      "         [0.3262, 0.7837, 0.7162, 0.4960],\n",
      "         [0.2141, 0.3284, 0.0672, 0.3405]],\n",
      "\n",
      "        [[0.6025, 0.4531, 0.0708, 0.6991],\n",
      "         [0.6091, 0.5353, 0.8518, 0.1657],\n",
      "         [0.1295, 0.2292, 0.2492, 0.3802]]])\n",
      "A(3,8) : tensor([[0.0392, 0.0263, 0.5743, 0.4460, 0.3262, 0.7837, 0.7162, 0.4960],\n",
      "        [0.2141, 0.3284, 0.0672, 0.3405, 0.6025, 0.4531, 0.0708, 0.6991],\n",
      "        [0.6091, 0.5353, 0.8518, 0.1657, 0.1295, 0.2292, 0.2492, 0.3802]])\n",
      "A(2,12) : tensor([[0.0392, 0.0263, 0.5743, 0.4460, 0.3262, 0.7837, 0.7162, 0.4960, 0.2141,\n",
      "         0.3284, 0.0672, 0.3405],\n",
      "        [0.6025, 0.4531, 0.0708, 0.6991, 0.6091, 0.5353, 0.8518, 0.1657, 0.1295,\n",
      "         0.2292, 0.2492, 0.3802]])\n",
      "view(2,-1) : tensor([[0.0392, 0.0263, 0.5743, 0.4460, 0.3262, 0.7837, 0.7162, 0.4960, 0.2141,\n",
      "         0.3284, 0.0672, 0.3405],\n",
      "        [0.6025, 0.4531, 0.0708, 0.6991, 0.6091, 0.5353, 0.8518, 0.1657, 0.1295,\n",
      "         0.2292, 0.2492, 0.3802]])\n",
      "view(2,-1) crée une matrice de deux lignes et d'autant de colonne que nécessaire pour mettre les données de la matrice. Pratique quand on ne sait pas très bien combien il faut de colonne pour restructurer la matrice\n"
     ]
    }
   ],
   "source": [
    "#Build a tensor of size (2, 3, 4)\n",
    "A = th.rand((2,3,4))\n",
    "print(\"A(2,3,4) :\", A)\n",
    "B= A.view(3,8)\n",
    "print(\"A(3,8) :\", B)\n",
    "C= A.view(2,12)\n",
    "print(\"A(2,12) :\", C)\n",
    "D = A.view(2,-1)\n",
    "print(\"view(2,-1) :\", D)\n",
    "print('view(2,-1) crée une matrice de deux lignes et d\\'autant de colonne que nécessaire pour mettre les données de la matrice. Pratique quand on ne sait pas très bien combien il faut de colonne pour restructurer la matrice')\n"
   ]
  },
  {
   "cell_type": "markdown",
   "metadata": {},
   "source": [
    "Assume you have a Tensor A of dimensions (3,2,1) that you initialized as you want:\n",
    "- look at the documentation of the method **squeeze**\n",
    "- Try it on A\n",
    "- And do the reverse with unsqueeze"
   ]
  },
  {
   "cell_type": "code",
   "execution_count": 15,
   "metadata": {},
   "outputs": [
    {
     "name": "stdout",
     "output_type": "stream",
     "text": [
      "A( : tensor([[[0.5428],\n",
      "         [0.6044]],\n",
      "\n",
      "        [[0.1151],\n",
      "         [0.4421]],\n",
      "\n",
      "        [[0.6069],\n",
      "         [0.2715]]])\n",
      "A_squeezed : tensor([[0.5428, 0.6044],\n",
      "        [0.1151, 0.4421],\n",
      "        [0.6069, 0.2715]])\n",
      "A_unsqueezed : tensor([[[0.5428],\n",
      "         [0.6044]],\n",
      "\n",
      "        [[0.1151],\n",
      "         [0.4421]],\n",
      "\n",
      "        [[0.6069],\n",
      "         [0.2715]]])\n"
     ]
    }
   ],
   "source": [
    "A = th.rand((3,2,1))\n",
    "print(\"A( :\", A)\n",
    "A = A.squeeze()\n",
    "print(\"A_squeezed :\", A)\n",
    "A = A.unsqueeze(2)\n",
    "print(\"A_unsqueezed :\", A)"
   ]
  },
  {
   "cell_type": "markdown",
   "metadata": {},
   "source": [
    "# Automatic differentiation  (auto-grad)\n",
    "\n",
    "`torch.autograd` provides classes and functions implementing automatic differentiation. \n",
    "When a tensor is created with `requires_grad=True`, the object will be able to store information about the gradient. In the following example, we build a computational graph. The \"end\" of this graph must be a scalar for automatic differentiation. Look at the following code. \n",
    "\n"
   ]
  },
  {
   "cell_type": "code",
   "execution_count": 16,
   "metadata": {},
   "outputs": [
    {
     "name": "stdout",
     "output_type": "stream",
     "text": [
      "x: tensor([[-0.2011]], requires_grad=True)\n",
      "x.grad: None\n"
     ]
    }
   ],
   "source": [
    "x = th.randn(1, 1, requires_grad=True)\n",
    "print(\"x:\",x)\n",
    "print(\"x.grad:\",x.grad)"
   ]
  },
  {
   "cell_type": "markdown",
   "metadata": {},
   "source": [
    "The Tensor `x` has an attribute `grad`. It is set to None for the moment.\n",
    "To build a computational graph using `x`, we just need to create new variables using torch operation.  The function `backward` can be called on a Tensor that contains a scalar. It computes the gradient (the partial derivatives) of the this scalar value with respect to all the Tensors involved in the computation. Look at the following code:"
   ]
  },
  {
   "cell_type": "code",
   "execution_count": 17,
   "metadata": {},
   "outputs": [
    {
     "name": "stdout",
     "output_type": "stream",
     "text": [
      "tensor([[0.5979]], grad_fn=<AddBackward0>)\n",
      "tensor([[2.]])\n"
     ]
    }
   ],
   "source": [
    "y = 2*x+1 \n",
    "print(y)\n",
    "y.backward()\n",
    "print(x.grad)"
   ]
  },
  {
   "attachments": {},
   "cell_type": "markdown",
   "metadata": {},
   "source": [
    "Can you explain the result ? \n",
    "\n",
    "#The gradient of y by x is 2, as the result show. backward has an understanding of the computation leading to y by regards of the tensor used."
   ]
  },
  {
   "cell_type": "markdown",
   "metadata": {},
   "source": [
    "The computation graph can be of course deeper. For instance, we can introduce a new variable `w`, a tensor as well. "
   ]
  },
  {
   "cell_type": "code",
   "execution_count": 18,
   "metadata": {},
   "outputs": [
    {
     "name": "stdout",
     "output_type": "stream",
     "text": [
      "w= 0.0055915885604918  and x= -0.28316938877105713\n"
     ]
    }
   ],
   "source": [
    "w = th.randn(1,1, requires_grad=True)\n",
    "x = th.randn(1, 1, requires_grad=True)\n",
    "\n",
    "print(\"w=\",w.item(),\" and x=\",x.item())"
   ]
  },
  {
   "cell_type": "code",
   "execution_count": 19,
   "metadata": {},
   "outputs": [
    {
     "name": "stdout",
     "output_type": "stream",
     "text": [
      "tensor([[0.0056]])\n",
      "tensor([[-0.2832]])\n"
     ]
    }
   ],
   "source": [
    "z = w*x\n",
    "z.backward()\n",
    "print(x.grad)\n",
    "print(w.grad)"
   ]
  },
  {
   "attachments": {},
   "cell_type": "markdown",
   "metadata": {},
   "source": [
    "What do you think about the result ? \n",
    "\n",
    "#The gradient of z by w is x and the gradient of z by x is w, it is coherent with the operation"
   ]
  },
  {
   "attachments": {},
   "cell_type": "markdown",
   "metadata": {},
   "source": [
    "It is worth noticing that the gradient is a tensor operation on a scalar value: we compute the partial derivative of a scalar quantity w.r.t a tensor. The variable on which we run the backward must be a single value. \n",
    "\n",
    "Let us consider the following code: can you explain the results ? \n",
    "\n",
    "#The gradient computation from a function has an understanding of the history of x, and is then able to compute the individual gradient of each x, even if their is a sum. Then the gradient of g by x_i is 0.5\\*2\\*x_i "
   ]
  },
  {
   "cell_type": "code",
   "execution_count": 20,
   "metadata": {},
   "outputs": [
    {
     "name": "stdout",
     "output_type": "stream",
     "text": [
      "tensor([[ 0.0126, -0.4710],\n",
      "        [ 0.8673, -1.5933]], requires_grad=True)\n",
      "g: tensor([[ 0.0126, -0.4710],\n",
      "        [ 0.8673, -1.5933]])\n",
      "x: tensor([[ 0.0126, -0.4710],\n",
      "        [ 0.8673, -1.5933]], requires_grad=True)\n"
     ]
    }
   ],
   "source": [
    "x = th.randn(2,2,requires_grad=True)        # x is a square matrix\n",
    "print(x)\n",
    "out = 0.5*x.pow(2).sum() # out is a new variable (scalar)\n",
    "out.backward()           # back propagation in the graph\n",
    "print(\"g:\",x.grad)       # the gradient of out with respect to x \n",
    "print(\"x:\",x)            # A simple check. Is it what expected ?  "
   ]
  },
  {
   "attachments": {},
   "cell_type": "markdown",
   "metadata": {},
   "source": [
    "And for this example  ?\n",
    "\n",
    "#The same if for here, backward is able to distinguish x_i and w_i and compute them accordingly for the gradient of out by w (which is 0,5\\*2\\*x)and then by x (which is 0,5\\*2\\*w). @ is the operator to multiply for tensor"
   ]
  },
  {
   "cell_type": "code",
   "execution_count": 21,
   "metadata": {},
   "outputs": [
    {
     "name": "stdout",
     "output_type": "stream",
     "text": [
      "tensor([[0.6767, 1.1326],\n",
      "        [0.1217, 0.7349]], requires_grad=True)\n",
      "tensor([[1., 1.]], requires_grad=True)\n",
      "x: tensor([[0.6767, 1.1326],\n",
      "        [0.1217, 0.7349]], requires_grad=True)\n",
      "x.grad: tensor([[0.7984, 1.8674],\n",
      "        [0.7984, 1.8674]])\n",
      "w: tensor([[1., 1.]], requires_grad=True)\n",
      "w.grad: tensor([[2.6553, 1.4695]])\n"
     ]
    }
   ],
   "source": [
    "x = th.randn(2,2,requires_grad=True)        # x is a square matrix\n",
    "print(x)\n",
    "w = th.ones(1,2,requires_grad=True)\n",
    "print(w)\n",
    "out = 0.5*(w@x).pow(2).sum() # out is a new variable (scalar)\n",
    "out.backward()           # back propagation in the graph\n",
    "print(\"x:\",x)            \n",
    "print(\"x.grad:\",x.grad)  # the gradient of out with respect to x \n",
    "print(\"w:\",w)            \n",
    "print(\"w.grad:\",w.grad)  # the gradient of out with respect to x "
   ]
  },
  {
   "cell_type": "markdown",
   "metadata": {},
   "source": [
    "# Machine Learning (or linear regression with gradient descent)\n",
    "\n",
    "In this section we consider a synthetic problem of regression. The data are generated like this: "
   ]
  },
  {
   "cell_type": "code",
   "execution_count": 140,
   "metadata": {},
   "outputs": [
    {
     "data": {
      "image/png": "[encoded data removed]",
      "text/plain": [
       "<Figure size 640x480 with 1 Axes>"
      ]
     },
     "metadata": {},
     "output_type": "display_data"
    }
   ],
   "source": [
    "th.manual_seed(123) # to ensure reproducibility\n",
    "var= 1 # \n",
    "X = th.arange(8) + th.randn(8)/var\n",
    "Y = 2*(th.arange(8) + th.randn(8)/var) + 0.5 \n",
    "# \n",
    "_ = plt.scatter(X,Y)"
   ]
  },
  {
   "cell_type": "markdown",
   "metadata": {},
   "source": [
    "Our goal is to approximate this simple data set with a function $f$ such that \n",
    "$$\n",
    "y_i \\approx f(x_i)\n",
    "$$ \n",
    "To find the right set of parameters that defines $f$, we want to minimize the mean square error:\n",
    "$$ L = \\sum_i (f(x_i) - y_i)^2.$$\n",
    "Our first assumption is that $f$ is a linear function: \n",
    "$$ f(x) = wx+w_0.$$\n",
    "\n",
    "The optimization program (or the gradient descent) starts with the random initialization of  the parameters $(w,w_0)$ "
   ]
  },
  {
   "cell_type": "code",
   "execution_count": 142,
   "metadata": {},
   "outputs": [],
   "source": [
    "w = th.randn(1,requires_grad=True)\n",
    "w0= th.randn(1,requires_grad=True)"
   ]
  },
  {
   "cell_type": "markdown",
   "metadata": {},
   "source": [
    "If we plot the line and the training points, this is not good (or you are very lucky):"
   ]
  },
  {
   "cell_type": "code",
   "execution_count": 143,
   "metadata": {},
   "outputs": [
    {
     "data": {
      "text/plain": [
       "<matplotlib.collections.PathCollection at 0x7effc23f16f0>"
      ]
     },
     "execution_count": 143,
     "metadata": {},
     "output_type": "execute_result"
    },
    {
     "data": {
      "image/png": "[encoded data removed]",
      "text/plain": [
       "<Figure size 640x480 with 1 Axes>"
      ]
     },
     "metadata": {},
     "output_type": "display_data"
    }
   ],
   "source": [
    "xs = th.linspace(0,8,2) # need 2 points for a line\n",
    "plt.plot(xs,(w*xs+w0).detach(),'r')\n",
    "plt.scatter(X,Y)\n"
   ]
  },
  {
   "cell_type": "markdown",
   "metadata": {},
   "source": [
    "**TODO**: To quantify the poor quality of this random initialization, compute the loss function. "
   ]
  },
  {
   "cell_type": "code",
   "execution_count": 144,
   "metadata": {},
   "outputs": [
    {
     "name": "stdout",
     "output_type": "stream",
     "text": [
      "tensor(1085.4353, grad_fn=<SumBackward0>)\n"
     ]
    }
   ],
   "source": [
    "#Loss function\n",
    "\n",
    "loss = (w*X+w0-Y).pow(2).sum()\n",
    "\n",
    "print(loss)"
   ]
  },
  {
   "cell_type": "markdown",
   "metadata": {},
   "source": [
    "**TODO:** Use the `backward` function to get the gradient of the loss with respect to the parameters. \n",
    "- Print the gradients.\n",
    "- Propose an update of the parameters \n",
    "- Verify if it improves the loss function"
   ]
  },
  {
   "cell_type": "code",
   "execution_count": 145,
   "metadata": {},
   "outputs": [
    {
     "name": "stdout",
     "output_type": "stream",
     "text": [
      "w: tensor([-0.4709], requires_grad=True)\n",
      "w.grad: tensor([-689.6369])\n",
      "w0: tensor([-0.4269], requires_grad=True)\n",
      "w0.grad: tensor([-159.1206])\n",
      "tensor(584.5292, grad_fn=<SumBackward0>)\n"
     ]
    }
   ],
   "source": [
    "loss.backward()           # back propagation in the graph\n",
    "print(\"w:\",w)            \n",
    "print(\"w.grad:\",w.grad)  # the gradient of loss with respect to w \n",
    "print(\"w0:\",w0)            \n",
    "print(\"w0.grad:\",w0.grad) # the gradient of loss with respect to w0\n",
    "\n",
    "pas=0.005\n",
    "w=w-pas*w.grad\n",
    "w=w0-pas*w0.grad\n",
    "\n",
    "loss = (w*X+w0-Y).pow(2).sum()\n",
    "\n",
    "print(loss)"
   ]
  },
  {
   "cell_type": "markdown",
   "metadata": {},
   "source": [
    "# Optimizer \n",
    "\n",
    "The optimizer is an object that takes care of the parameter updates. The base class is `Optimizer` and the code is in the module `torch.optim`. Among the possible optimizer you can look at the documentation of `SGD`:\n",
    "\n",
    "**TODO:** \n",
    "- Explain the parameters `lr`;\n",
    "- `weight_decay`;\n",
    "\n",
    "\n",
    "In the future, you will also use `Adam`, but for the moment we focus on `SGD`.  \n",
    "They all have the same (more or less) the same interface. \n",
    "To create an optimizer we need to create an object `SGD` with: \n",
    "- the parameters under consideration\n",
    "- and the lr parameter. \n",
    "\n",
    "Assume here we want to learn `w` and `w0`: "
   ]
  },
  {
   "attachments": {},
   "cell_type": "markdown",
   "metadata": {},
   "source": [
    "#lr is the learning rate. It allows to control how much the gradient is subtracted to the parameter at each step. It is the equivalent of the \"pas\" used is the previous code. w(t+1) = w(t) - lr*w(t+1).grad\n",
    "#weight_decay is a parameter allowing to downgrade the influence (or amplify it if weight_decay is negative) of the gradient before computation of the new parameter. It appears in the equation w.grad(t) = w.grad(t) + weight_decay*w(t-1)."
   ]
  },
  {
   "cell_type": "code",
   "execution_count": 157,
   "metadata": {},
   "outputs": [],
   "source": [
    "w = th.randn(1,requires_grad=True)\n",
    "w0= th.randn(1,requires_grad=True)\n",
    "trainable_parameters = (w,w0)\n",
    "sgd = th.optim.SGD(trainable_parameters, lr=1)"
   ]
  },
  {
   "cell_type": "markdown",
   "metadata": {},
   "source": [
    "The two important functions are: \n",
    "- `step` take the gradient of all the trainable parameters and make the update (remember we now have values for `w.grad` and `w0.grad`)\n",
    "- and `zero_grad` resets the gradient values for a next training step.  \n",
    "\n",
    "**TODO:**\n",
    "- Compute the predicions for `X`\n",
    "- Do the backward propagation and print `w,w0` with their gradients\n",
    "- Make an update  and print `w,w0` with their gradients\n",
    "- Run `zero_grad`  and print `w,w0` with their gradients\n",
    "- Plot the new line defined by `w,w0`. \n",
    "- Do you think the value of `lr` is adapted ? "
   ]
  },
  {
   "cell_type": "code",
   "execution_count": 158,
   "metadata": {},
   "outputs": [
    {
     "name": "stdout",
     "output_type": "stream",
     "text": [
      "tensor(281.5719, grad_fn=<SumBackward0>)\n",
      "\n",
      "Parameters after gradient computation :\n",
      "w: tensor([1.0764], requires_grad=True)\n",
      "w.grad: tensor([-345.4725])\n",
      "w0: tensor([-0.4015], requires_grad=True)\n",
      "w0.grad: tensor([-82.3294])\n",
      "\n",
      "Parameters after update :\n",
      "w: tensor([346.5489], requires_grad=True)\n",
      "w.grad: tensor([-345.4725])\n",
      "w0: tensor([81.9279], requires_grad=True)\n",
      "w0.grad: tensor([-82.3294])\n",
      "\n",
      "Parameters after gradient re-initialization :\n",
      "w: tensor([346.5489], requires_grad=True)\n",
      "w.grad: None\n",
      "w0: tensor([81.9279], requires_grad=True)\n",
      "w0.grad: None\n"
     ]
    },
    {
     "data": {
      "text/plain": [
       "<matplotlib.collections.PathCollection at 0x7effc1fe0b80>"
      ]
     },
     "execution_count": 158,
     "metadata": {},
     "output_type": "execute_result"
    },
    {
     "data": {
      "image/png": "[encoded data removed]",
      "text/plain": [
       "<Figure size 640x480 with 1 Axes>"
      ]
     },
     "metadata": {},
     "output_type": "display_data"
    }
   ],
   "source": [
    "loss = (w*X+w0-Y).pow(2).sum()\n",
    "print(loss)\n",
    "\n",
    "loss.backward()\n",
    "\n",
    "print(\"\\nParameters after gradient computation :\")\n",
    "print(\"w:\",w)            \n",
    "print(\"w.grad:\",w.grad)  # the gradient of loss with respect to w \n",
    "print(\"w0:\",w0)            \n",
    "print(\"w0.grad:\",w0.grad) # the gradient of loss with respect to w0\n",
    "\n",
    "sgd.step()\n",
    "\n",
    "print(\"\\nParameters after update :\")\n",
    "print(\"w:\",w)            \n",
    "print(\"w.grad:\",w.grad)  # the gradient of loss with respect to w \n",
    "print(\"w0:\",w0)            \n",
    "print(\"w0.grad:\",w0.grad) # the gradient of loss with respect to w0\n",
    "\n",
    "sgd.zero_grad()\n",
    "\n",
    "print(\"\\nParameters after gradient re-initialization :\")\n",
    "print(\"w:\",w)            \n",
    "print(\"w.grad:\",w.grad)  # the gradient of loss with respect to w \n",
    "print(\"w0:\",w0)            \n",
    "print(\"w0.grad:\",w0.grad) # the gradient of loss with respect to w0\n",
    "\n",
    "xs = th.linspace(0,8,2) # need 2 points for a line\n",
    "plt.plot(xs,(w*xs+w0).detach(),'r')\n",
    "plt.scatter(X,Y)\n",
    "\n",
    "#lr is clearly not adapted and is too big. A better value should be around 0.01-0.1. Here, it goes from one extreme of the gradient to the other extreme.\n"
   ]
  },
  {
   "cell_type": "markdown",
   "metadata": {},
   "source": [
    "# The training function\n",
    "\n",
    "**TODO:***\n",
    "Now you have everything to write the training code of the model:\n",
    "- initialization of the parameters \n",
    "- loop of gradient descent\n",
    "- record the loss evolution after each epoch\n",
    "- plot the loss evolution along the training process\n",
    "- look at the new decision boundary\n"
   ]
  },
  {
   "cell_type": "code",
   "execution_count": 210,
   "metadata": {},
   "outputs": [
    {
     "data": {
      "text/plain": [
       "Text(0, 0.5, 'Y')"
      ]
     },
     "execution_count": 210,
     "metadata": {},
     "output_type": "execute_result"
    },
    {
     "data": {
      "image/png": "[encoded data removed]",
      "text/plain": [
       "<Figure size 640x480 with 2 Axes>"
      ]
     },
     "metadata": {},
     "output_type": "display_data"
    }
   ],
   "source": [
    "Nepoch = 10\n",
    "lr = 1e-3\n",
    "## Your code here \n",
    "\n",
    "#Initialization of the data\n",
    "th.manual_seed(123) # to ensure reproducibility\n",
    "var= 1 # \n",
    "X = th.arange(8) + th.randn(8)/var\n",
    "Y = 2*(th.arange(8) + th.randn(8)/var) + 0.5 \n",
    "\n",
    "\n",
    "#Initialization of parameters\n",
    "w = th.randn(1,requires_grad=True)\n",
    "w0= th.randn(1,requires_grad=True)\n",
    "trainable_parameters = (w,w0)\n",
    "sgd = th.optim.SGD(trainable_parameters, lr)\n",
    "\n",
    "loss = (w*X+w0-Y).pow(2).sum()\n",
    "loss_list = th.ones(1)\n",
    "loss_list[0] = loss\n",
    "\n",
    "#Computation of the ideal parameters\n",
    "for i in range(Nepoch):\n",
    "    loss.backward()\n",
    "    sgd.step()\n",
    "    sgd.zero_grad()\n",
    "    loss = (w*X+w0-Y).pow(2).sum()\n",
    "    loss_list = th.cat((loss_list, loss.unsqueeze(0)))\n",
    "\n",
    "plt.subplot(1,2,1)\n",
    "plt.plot(loss_list.detach().numpy())\n",
    "plt.xlabel('Iteration n°')\n",
    "plt.ylabel('Quadratic loss value')\n",
    "\n",
    "plt.subplot(1,2,2)\n",
    "xs = th.linspace(0,8,2) # need 2 points for a line\n",
    "plt.plot(xs,(w*xs+w0).detach(),'r')\n",
    "plt.scatter(X,Y)\n",
    "plt.xlabel('X')\n",
    "plt.ylabel('Y')"
   ]
  },
  {
   "cell_type": "markdown",
   "metadata": {},
   "source": [
    "# Module\n",
    "In the previous code we define our model \"by hand\". In practice, it is more convenient to use existing module (base class `Module`). For instance the linear transform $f(x) = wx+w_0$ is simply the application of a `Linear` module. \n",
    "\n",
    "**TODO**\n",
    "- Look at the documentation\n",
    "- rewrite the training code to use a `Linear` module. \n",
    "- Look at the result. "
   ]
  },
  {
   "cell_type": "code",
   "execution_count": 12,
   "metadata": {},
   "outputs": [
    {
     "data": {
      "image/png": "[encoded data removed]",
      "text/plain": [
       "<Figure size 640x480 with 2 Axes>"
      ]
     },
     "metadata": {},
     "output_type": "display_data"
    }
   ],
   "source": [
    "Nepoch = 100\n",
    "lr = 1e-3\n",
    "\n",
    "# Initialization of the data\n",
    "th.manual_seed(123) # to ensure reproducibility\n",
    "var = 1\n",
    "X = th.arange(8) + th.randn(8) / var\n",
    "Y = 2 * (th.arange(8) + th.randn(8) / var) + 0.5 \n",
    "\n",
    "# Create a Linear module with one input and one output\n",
    "linear_module = nn.Linear(1, 1)\n",
    "\n",
    "# Define the loss function\n",
    "loss_fn = nn.MSELoss() #Computes the quadratic loss\n",
    "\n",
    "# Define the optimizer\n",
    "optimizer = th.optim.SGD(linear_module.parameters(), lr=lr)\n",
    "\n",
    "# Training loop\n",
    "loss_list = []\n",
    "for i in range(Nepoch):\n",
    "    # Forward pass\n",
    "    outputs = linear_module(X.unsqueeze(1))\n",
    "    loss = loss_fn(outputs, Y.unsqueeze(1))\n",
    "    loss_list.append(loss.item())\n",
    "    \n",
    "    # Backward pass and optimization step\n",
    "    optimizer.zero_grad()\n",
    "    loss.backward()\n",
    "    optimizer.step()\n",
    "\n",
    "# Plot the loss curve\n",
    "plt.subplot(1, 2, 1)\n",
    "plt.plot(loss_list)\n",
    "plt.xlabel('N')\n",
    "plt.ylabel('Quadratic Loss')\n",
    "\n",
    "# Plot the fitted line\n",
    "plt.subplot(1, 2, 2)\n",
    "xs = th.linspace(0, 8, 2).unsqueeze(1)\n",
    "ys = linear_module(xs)\n",
    "plt.plot(xs, ys.detach(), 'r')\n",
    "plt.scatter(X, Y)\n",
    "plt.xlabel('X')\n",
    "plt.ylabel('Y')\n",
    "plt.show()"
   ]
  },
  {
   "cell_type": "markdown",
   "metadata": {},
   "source": [
    "# Logistic Regression\n",
    "Let start with an easy dataset for binary classification. The following subsections just provide a dummy dataset and function to visualize the data-set. \n",
    "\n",
    "\n",
    "\n",
    "## Create the data\n"
   ]
  },
  {
   "cell_type": "code",
   "execution_count": 3,
   "metadata": {},
   "outputs": [
    {
     "data": {
      "text/plain": [
       "<matplotlib.collections.PathCollection at 0x7f55f73bd840>"
      ]
     },
     "execution_count": 3,
     "metadata": {},
     "output_type": "execute_result"
    },
    {
     "data": {
      "image/png": "[encoded data removed]",
      "text/plain": [
       "<Figure size 640x480 with 1 Axes>"
      ]
     },
     "metadata": {},
     "output_type": "display_data"
    }
   ],
   "source": [
    "import numpy as np\n",
    "ST1 = np.array([[17.0 ,12 ,13 ,15 ,15 ,20 ,20],[ 10 ,12 ,14 ,15 ,20 ,15 ,20]]) # class 1 \n",
    "ST2 = np.array([4, 7.5, 10 ,11, 5 ,5 ,6, 8, 5, 0, 5, 0, 10, 6]).reshape(2,7) # class 2 \n",
    "Xstudents = np.concatenate((ST1,ST2),axis=1)\n",
    "Ystudents = np.ones(14)\n",
    "Ystudents[7:] = 0\n",
    "\n",
    "plt.scatter(ST1[0],ST1[1],color='b')\n",
    "plt.scatter(ST2[0],ST2[1],color='r')\n"
   ]
  },
  {
   "cell_type": "markdown",
   "metadata": {},
   "source": [
    "Can you plot the dataset with two colors (one for each class) ? \n"
   ]
  },
  {
   "cell_type": "markdown",
   "metadata": {},
   "source": [
    "## The model \n",
    "\n",
    "\n",
    "Define a logistic regression model with pytorch, learn it and vizualise the result. \n",
    "The roadmap is: \n",
    "* A simple neural model can rely on  **Sequential**. A model handles  **Tensors**. The data for a model should be converted into Tensors. Start by this transformation. \n",
    "* Create a regression model  (a single neuron with the logistic activation function, or a linear layer with one single neuron with the logistic activation). \n",
    "* Define the '**optimizer** (Take the basic Stochastic Gradient Descent). \n",
    "* Define the objective function\n",
    "* Write the training loop and run it until convergence. It can be useful to play with learning rate. Run the gradient descent example by example. \n",
    "* Look at the solution \n",
    "* Start again in  **batch** mode (the gradient is estimated on the whole training set).\n",
    "\n",
    "\n",
    "\n",
    "## From data to tensors / variables \n"
   ]
  },
  {
   "cell_type": "code",
   "execution_count": 98,
   "metadata": {},
   "outputs": [
    {
     "name": "stdout",
     "output_type": "stream",
     "text": [
      "tensor([[17.0000, 10.0000],\n",
      "        [12.0000, 12.0000],\n",
      "        [13.0000, 14.0000],\n",
      "        [15.0000, 15.0000],\n",
      "        [15.0000, 20.0000],\n",
      "        [20.0000, 15.0000],\n",
      "        [20.0000, 20.0000],\n",
      "        [ 4.0000,  8.0000],\n",
      "        [ 7.5000,  5.0000],\n",
      "        [10.0000,  0.0000],\n",
      "        [11.0000,  5.0000],\n",
      "        [ 5.0000,  0.0000],\n",
      "        [ 5.0000, 10.0000],\n",
      "        [ 6.0000,  6.0000]])\n"
     ]
    }
   ],
   "source": [
    "X = th.from_numpy(Xstudents.astype(np.float32)).transpose(1,0)\n",
    "Y = th.from_numpy(Ystudents.astype(np.float32)).unsqueeze(1)\n",
    "\n",
    "print(X)"
   ]
  },
  {
   "cell_type": "markdown",
   "metadata": {},
   "source": [
    "## Create the model, its loss and optimizer\n",
    "\n",
    "The model is a linear transformation followed by a Sigmoid function. This is equivalent to a logistic regression model. "
   ]
  },
  {
   "cell_type": "code",
   "execution_count": 129,
   "metadata": {},
   "outputs": [],
   "source": [
    "# The model \n",
    "D_in=2  # input size : 2 \n",
    "D_out=1 # output size: one value \n",
    "\n",
    "\n",
    "lr = 0.001\n",
    "\n",
    "model = nn.Sequential(\n",
    "          nn.Linear(D_in, D_out),\n",
    "          nn.Sigmoid()\n",
    ")\n",
    "\n",
    "# The loss\n",
    "loss_fn = nn.BCELoss() \n",
    "\n",
    "# The optimizer\n",
    "optimizer = th.optim.SGD(model.parameters(), lr=lr)"
   ]
  },
  {
   "cell_type": "markdown",
   "metadata": {},
   "source": [
    "## Testing the model with data\n",
    "Just run inference to see if everything is fine. \n"
   ]
  },
  {
   "cell_type": "code",
   "execution_count": 100,
   "metadata": {},
   "outputs": [
    {
     "name": "stdout",
     "output_type": "stream",
     "text": [
      "tensor([17., 10.])\n",
      "For the first input:  tensor([0.9948], grad_fn=<SigmoidBackward0>)\n",
      "For the 3 first inputs:  tensor([[0.9948],\n",
      "        [0.9993],\n",
      "        [0.9998]], grad_fn=<SigmoidBackward0>)\n",
      "For all:  tensor([[0.9948],\n",
      "        [0.9993],\n",
      "        [0.9998],\n",
      "        [0.9999],\n",
      "        [1.0000],\n",
      "        [0.9998],\n",
      "        [1.0000],\n",
      "        [0.9963],\n",
      "        [0.9562],\n",
      "        [0.3367],\n",
      "        [0.9323],\n",
      "        [0.4955],\n",
      "        [0.9989],\n",
      "        [0.9815]], grad_fn=<SigmoidBackward0>)\n"
     ]
    }
   ],
   "source": [
    "# With a single input vector \n",
    "print(X[0])\n",
    "prediction = model(X[0]) # or prediction = model.forward(X[0]) both are equivalent\n",
    "\n",
    "print(\"For the first input: \",prediction)\n",
    "\n",
    "# With 3 input vectors \n",
    "prediction = model(X[0:3])\n",
    "print(\"For the 3 first inputs: \",prediction)\n",
    "\n",
    "# For the whole dataset\n",
    "prediction = model(X)\n",
    "print(\"For all: \",prediction)\n",
    "\n"
   ]
  },
  {
   "cell_type": "code",
   "execution_count": 101,
   "metadata": {},
   "outputs": [
    {
     "name": "stdout",
     "output_type": "stream",
     "text": [
      "The first prediction:  tensor([0.9948], grad_fn=<SigmoidBackward0>) torch.Size([1])\n",
      "The reference:  tensor([1.]) torch.Size([1])\n"
     ]
    },
    {
     "data": {
      "text/plain": [
       "tensor(0.0052, grad_fn=<BinaryCrossEntropyBackward0>)"
      ]
     },
     "execution_count": 101,
     "metadata": {},
     "output_type": "execute_result"
    }
   ],
   "source": [
    "# With a single input vector \n",
    "prediction = model(X[0])\n",
    "print(\"The first prediction: \",prediction, prediction.shape)\n",
    "print(\"The reference: \",Y[0], Y[0].shape)\n",
    "\n",
    "loss_fn(prediction,Y[0])\n",
    "\n"
   ]
  },
  {
   "cell_type": "markdown",
   "metadata": {},
   "source": [
    "This code should generate a warning or an error, since the label (or target value) and the prediction (considered as the input value of the loss) are of different dimensions. \n",
    "\n",
    "There is two ways to fix that. The first one is to reduce the input dimension using *squeeze*. The second one is to modify the target values. See the two cells below. "
   ]
  },
  {
   "cell_type": "code",
   "execution_count": 102,
   "metadata": {},
   "outputs": [
    {
     "name": "stdout",
     "output_type": "stream",
     "text": [
      "The first prediction:  tensor([[0.9948],\n",
      "        [0.9993],\n",
      "        [0.9998],\n",
      "        [0.9999],\n",
      "        [1.0000],\n",
      "        [0.9998],\n",
      "        [1.0000],\n",
      "        [0.9963],\n",
      "        [0.9562],\n",
      "        [0.3367],\n",
      "        [0.9323],\n",
      "        [0.4955],\n",
      "        [0.9989],\n",
      "        [0.9815]], grad_fn=<SigmoidBackward0>) torch.Size([14, 1])\n",
      "The reference:  tensor([1.]) torch.Size([1])\n"
     ]
    },
    {
     "data": {
      "text/plain": [
       "tensor(1.6692, grad_fn=<BinaryCrossEntropyBackward0>)"
      ]
     },
     "execution_count": 102,
     "metadata": {},
     "output_type": "execute_result"
    }
   ],
   "source": [
    "prediction = model(X)\n",
    "print(\"The first prediction: \",prediction, prediction.shape)\n",
    "print(\"The reference: \",Y[0], Y[0].shape)\n",
    "\n",
    "loss_fn(prediction,Y)\n",
    "\n"
   ]
  },
  {
   "cell_type": "code",
   "execution_count": 103,
   "metadata": {},
   "outputs": [
    {
     "name": "stdout",
     "output_type": "stream",
     "text": [
      "The first prediction:  tensor([0.9948], grad_fn=<SigmoidBackward0>) torch.Size([1])\n",
      "The reference:  tensor([1.]) torch.Size([1])\n"
     ]
    },
    {
     "data": {
      "text/plain": [
       "tensor(0.0052, grad_fn=<BinaryCrossEntropyBackward0>)"
      ]
     },
     "execution_count": 103,
     "metadata": {},
     "output_type": "execute_result"
    }
   ],
   "source": [
    "prediction = model(X[0])\n",
    "Ymodified = Y.view(-1,1)\n",
    "print(\"The first prediction: \",prediction, prediction.shape)\n",
    "print(\"The reference: \",Ymodified[0], Ymodified[0].shape)\n",
    "\n",
    "loss_fn(prediction,Ymodified[0])\n"
   ]
  },
  {
   "cell_type": "markdown",
   "metadata": {},
   "source": [
    "## Training loop\n",
    "\n",
    "**TODO:** Now we have everything to train the model. "
   ]
  },
  {
   "cell_type": "code",
   "execution_count": 130,
   "metadata": {},
   "outputs": [
    {
     "data": {
      "image/png": "[encoded data removed]",
      "text/plain": [
       "<Figure size 640x480 with 2 Axes>"
      ]
     },
     "metadata": {},
     "output_type": "display_data"
    },
    {
     "name": "stdout",
     "output_type": "stream",
     "text": [
      "La valeur finale de loss est :  0.09353754669427872\n"
     ]
    }
   ],
   "source": [
    "Nepoch = 100000\n",
    "# Training loop\n",
    "loss_list = []\n",
    "for i in range(Nepoch):\n",
    "    # Forward pass\n",
    "    optimizer.zero_grad()\n",
    "    outputs = model(X)\n",
    "\n",
    "    loss = loss_fn(outputs, Y)\n",
    "    loss_list.append(loss.item())\n",
    "    \n",
    "    # Backward pass and optimization step\n",
    "    \n",
    "    loss.backward()\n",
    "    optimizer.step()\n",
    "\n",
    "\n",
    "# Plot the loss curve\n",
    "plt.subplot(1, 2, 1)\n",
    "plt.plot(loss_list)\n",
    "plt.xlabel('N')\n",
    "plt.ylabel('Quadratic Loss')\n",
    "\n",
    "# Plot the fitted line\n",
    "plt.subplot(1, 2, 2)\n",
    "xs = th.linspace(0, 20, 2)\n",
    "\n",
    "b = model[0].bias.data.numpy()\n",
    "w0, w1 = model[0].weight.data.numpy().squeeze()\n",
    "plt.plot(xs, -(w0*xs + b)/w1, 'r')\n",
    "\n",
    "plt.scatter(ST1[0],ST1[1],color='b')\n",
    "plt.scatter(ST2[0],ST2[1],color='r')\n",
    "plt.xlabel('X')\n",
    "plt.ylabel('Y')\n",
    "plt.show()\n",
    "\n",
    "print(\"La valeur finale de loss est : \", loss_list[-1])\n"
   ]
  },
  {
   "cell_type": "markdown",
   "metadata": {},
   "source": [
    "It is better to visualize the evolution of the loss function: to be sure that everything went well. The idea is to store the loss values in a numpy array and then to plot it. \n",
    "\n",
    "**TODO:** Modify the code above to do that. "
   ]
  },
  {
   "cell_type": "markdown",
   "metadata": {},
   "source": [
    "## Explore the \"solution\" \n",
    "\n",
    "Here, we look at the different wrapping steps: \n",
    "- The model is a set of modules\n",
    "- A Linear module is a matrix of weights along with a bias vector. They are parameters.\n",
    "- A Parameter wrap a tensor\n",
    "- A tensor can be casted as a numpy array\n"
   ]
  },
  {
   "cell_type": "code",
   "execution_count": 121,
   "metadata": {},
   "outputs": [
    {
     "name": "stdout",
     "output_type": "stream",
     "text": [
      "<class 'torch.nn.modules.linear.Linear'>\n",
      "<class 'torch.nn.parameter.Parameter'>\n",
      "<class 'torch.Tensor'>\n",
      "<class 'numpy.ndarray'>\n"
     ]
    }
   ],
   "source": [
    "mod = model[0]\n",
    "print(type(mod))\n",
    "print(type(mod.bias))\n",
    "print(type(mod.bias.data))\n",
    "print(type(mod.bias.data.numpy()))\n"
   ]
  },
  {
   "cell_type": "markdown",
   "metadata": {},
   "source": [
    "We can look at the parameters: "
   ]
  },
  {
   "cell_type": "code",
   "execution_count": 122,
   "metadata": {},
   "outputs": [
    {
     "name": "stdout",
     "output_type": "stream",
     "text": [
      "tensor([[-6.0999]])\n",
      "tensor([[0.2924, 0.3371]])\n"
     ]
    }
   ],
   "source": [
    "print(mod.bias.data.view(1,1))\n",
    "print(mod.weight.data)"
   ]
  },
  {
   "cell_type": "markdown",
   "metadata": {
    "collapsed": true
   },
   "source": [
    "## Impact of the learning rate \n",
    "\n",
    "Now, we will use the same model trained with a different learning rate. The training process restarts from scratch. We need to therefore to re-create the model and the associated optimizer. "
   ]
  },
  {
   "cell_type": "code",
   "execution_count": 126,
   "metadata": {},
   "outputs": [],
   "source": [
    "model = th.nn.Sequential(\n",
    "    th.nn.Linear(D_in, D_out),\n",
    "    th.nn.Sigmoid()    \n",
    ")\n",
    "learning_rate = 1e-1\n",
    "optimizer = th.optim.SGD(model.parameters(), lr=learning_rate) "
   ]
  },
  {
   "cell_type": "markdown",
   "metadata": {},
   "source": [
    "We now have the same model as before, randomly initialized. We train this same model with a different learning rate, a larger one. \n",
    "\n",
    "- Run the training with the same number of epochs and compare the loss value we get at the end\n",
    "- Do you think we can reach the same value with the learning rate of 1e-2, but with a longer training ? \n",
    "- Try the same thing with a learning rate of 0.5, what do you observe ? \n",
    "\n"
   ]
  },
  {
   "cell_type": "code",
   "execution_count": 127,
   "metadata": {},
   "outputs": [
    {
     "data": {
      "image/png": "[encoded data removed]",
      "text/plain": [
       "<Figure size 640x480 with 2 Axes>"
      ]
     },
     "metadata": {},
     "output_type": "display_data"
    },
    {
     "name": "stdout",
     "output_type": "stream",
     "text": [
      "La valeur finale de loss est :  0.001854766276665032\n"
     ]
    }
   ],
   "source": [
    "Nepoch = 100000\n",
    "# Training loop\n",
    "loss_list = []\n",
    "for i in range(Nepoch):\n",
    "    # Forward pass\n",
    "    optimizer.zero_grad()\n",
    "    outputs = model(X)\n",
    "\n",
    "    loss = loss_fn(outputs, Y)\n",
    "    loss_list.append(loss.item())\n",
    "    \n",
    "    # Backward pass and optimization step\n",
    "    \n",
    "    loss.backward()\n",
    "    optimizer.step()\n",
    "\n",
    "\n",
    "# Plot the loss curve\n",
    "plt.subplot(1, 2, 1)\n",
    "plt.plot(loss_list)\n",
    "plt.xlabel('N')\n",
    "plt.ylabel('Quadratic Loss')\n",
    "\n",
    "# Plot the fitted line\n",
    "plt.subplot(1, 2, 2)\n",
    "xs = th.linspace(0, 20, 2)\n",
    "\n",
    "b = model[0].bias.data.numpy()\n",
    "w0, w1 = model[0].weight.data.numpy().squeeze()\n",
    "plt.plot(xs, -(w0*xs + b)/w1, 'r')\n",
    "\n",
    "plt.scatter(ST1[0],ST1[1],color='b')\n",
    "plt.scatter(ST2[0],ST2[1],color='r')\n",
    "plt.xlabel('X')\n",
    "plt.ylabel('Y')\n",
    "plt.show()\n",
    "\n",
    "print(\"La valeur finale de loss est : \", loss_list[-1])"
   ]
  },
  {
   "attachments": {},
   "cell_type": "markdown",
   "metadata": {},
   "source": [
    "Le learning rate de 0.1 est bien plus adapté au calcul de paramètres idéaux et converge bien plus vite. Le lr est 100x plus grand que l'exemple précédent mais la loss value est 100 fois plus petite."
   ]
  },
  {
   "cell_type": "code",
   "execution_count": 133,
   "metadata": {},
   "outputs": [],
   "source": [
    "model = th.nn.Sequential(\n",
    "    th.nn.Linear(D_in, D_out),\n",
    "    th.nn.Sigmoid()    \n",
    ")\n",
    "learning_rate = 1e-2\n",
    "optimizer = th.optim.SGD(model.parameters(), lr=learning_rate) "
   ]
  },
  {
   "cell_type": "code",
   "execution_count": 134,
   "metadata": {},
   "outputs": [
    {
     "data": {
      "image/png": "[encoded data removed]",
      "text/plain": [
       "<Figure size 640x480 with 2 Axes>"
      ]
     },
     "metadata": {},
     "output_type": "display_data"
    },
    {
     "name": "stdout",
     "output_type": "stream",
     "text": [
      "La valeur finale de loss est :  0.001881089643575251\n"
     ]
    }
   ],
   "source": [
    "Nepoch = 1000000\n",
    "# Training loop\n",
    "loss_list = []\n",
    "for i in range(Nepoch):\n",
    "    # Forward pass\n",
    "    optimizer.zero_grad()\n",
    "    outputs = model(X)\n",
    "\n",
    "    loss = loss_fn(outputs, Y)\n",
    "    loss_list.append(loss.item())\n",
    "    \n",
    "    # Backward pass and optimization step\n",
    "    \n",
    "    loss.backward()\n",
    "    optimizer.step()\n",
    "\n",
    "\n",
    "# Plot the loss curve\n",
    "plt.subplot(1, 2, 1)\n",
    "plt.plot(loss_list)\n",
    "plt.xlabel('N')\n",
    "plt.ylabel('Quadratic Loss')\n",
    "\n",
    "# Plot the fitted line\n",
    "plt.subplot(1, 2, 2)\n",
    "xs = th.linspace(0, 20, 2)\n",
    "\n",
    "b = model[0].bias.data.numpy()\n",
    "w0, w1 = model[0].weight.data.numpy().squeeze()\n",
    "plt.plot(xs, -(w0*xs + b)/w1, 'r')\n",
    "\n",
    "plt.scatter(ST1[0],ST1[1],color='b')\n",
    "plt.scatter(ST2[0],ST2[1],color='r')\n",
    "plt.xlabel('X')\n",
    "plt.ylabel('Y')\n",
    "plt.show()\n",
    "\n",
    "print(\"La valeur finale de loss est : \", loss_list[-1])"
   ]
  },
  {
   "attachments": {},
   "cell_type": "markdown",
   "metadata": {},
   "source": [
    "Pour avoir une loss value équivalente à celle précédente avec un learning rate de 1e-2, il faut entraîner le modèle 10 fois plus."
   ]
  },
  {
   "cell_type": "code",
   "execution_count": 135,
   "metadata": {},
   "outputs": [],
   "source": [
    "model = th.nn.Sequential(\n",
    "    th.nn.Linear(D_in, D_out),\n",
    "    th.nn.Sigmoid()    \n",
    ")\n",
    "learning_rate = 0.5\n",
    "optimizer = th.optim.SGD(model.parameters(), lr=learning_rate) "
   ]
  },
  {
   "cell_type": "code",
   "execution_count": 136,
   "metadata": {},
   "outputs": [
    {
     "data": {
      "image/png": "[encoded data removed]",
      "text/plain": [
       "<Figure size 640x480 with 2 Axes>"
      ]
     },
     "metadata": {},
     "output_type": "display_data"
    },
    {
     "name": "stdout",
     "output_type": "stream",
     "text": [
      "La valeur finale de loss est :  0.0003875774855259806\n"
     ]
    }
   ],
   "source": [
    "Nepoch = 100000\n",
    "# Training loop\n",
    "loss_list = []\n",
    "for i in range(Nepoch):\n",
    "    # Forward pass\n",
    "    optimizer.zero_grad()\n",
    "    outputs = model(X)\n",
    "\n",
    "    loss = loss_fn(outputs, Y)\n",
    "    loss_list.append(loss.item())\n",
    "    \n",
    "    # Backward pass and optimization step\n",
    "    \n",
    "    loss.backward()\n",
    "    optimizer.step()\n",
    "\n",
    "\n",
    "# Plot the loss curve\n",
    "plt.subplot(1, 2, 1)\n",
    "plt.plot(loss_list)\n",
    "plt.xlabel('N')\n",
    "plt.ylabel('Quadratic Loss')\n",
    "\n",
    "# Plot the fitted line\n",
    "plt.subplot(1, 2, 2)\n",
    "xs = th.linspace(0, 20, 2)\n",
    "\n",
    "b = model[0].bias.data.numpy()\n",
    "w0, w1 = model[0].weight.data.numpy().squeeze()\n",
    "plt.plot(xs, -(w0*xs + b)/w1, 'r')\n",
    "\n",
    "plt.scatter(ST1[0],ST1[1],color='b')\n",
    "plt.scatter(ST2[0],ST2[1],color='r')\n",
    "plt.xlabel('X')\n",
    "plt.ylabel('Y')\n",
    "plt.show()\n",
    "\n",
    "print(\"La valeur finale de loss est : \", loss_list[-1])"
   ]
  },
  {
   "attachments": {},
   "cell_type": "markdown",
   "metadata": {},
   "source": [
    "Pour un learning rate de 0.5, le modèle n'arrive pas au début à converger, le pas est trop grand et passe d'une pente du gradient à l'autre, mais les paramètres finissent par se stabiliser et la loss value oscille autour de 0."
   ]
  }
 ],
 "metadata": {
  "anaconda-cloud": {},
  "kernelspec": {
   "display_name": "Python 3 (ipykernel)",
   "language": "python",
   "name": "python3"
  },
  "language_info": {
   "codemirror_mode": {
    "name": "ipython",
    "version": 3
   },
   "file_extension": ".py",
   "mimetype": "text/x-python",
   "name": "python",
   "nbconvert_exporter": "python",
   "pygments_lexer": "ipython3",
   "version": "3.10.6"
  },
  "toc": {
   "base_numbering": 1,
   "nav_menu": {
    "height": "351px",
    "width": "423px"
   },
   "number_sections": true,
   "sideBar": true,
   "skip_h1_title": false,
   "title_cell": "Table of Contents",
   "title_sidebar": "Contents",
   "toc_cell": false,
   "toc_position": {},
   "toc_section_display": true,
   "toc_window_display": false
  }
 },
 "nbformat": 4,
 "nbformat_minor": 1
}
